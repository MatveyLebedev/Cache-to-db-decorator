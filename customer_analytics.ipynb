{
  "nbformat": 4,
  "nbformat_minor": 0,
  "metadata": {
    "colab": {
      "name": "Rabota_3.ipynb",
      "provenance": [],
      "collapsed_sections": [],
      "toc_visible": true,
      "authorship_tag": "ABX9TyPPo92RQknDZg/lPhbV9P+q",
      "include_colab_link": true
    },
    "kernelspec": {
      "name": "python3",
      "display_name": "Python 3"
    },
    "language_info": {
      "name": "python"
    }
  },
  "cells": [
    {
      "cell_type": "markdown",
      "metadata": {
        "id": "view-in-github",
        "colab_type": "text"
      },
      "source": [
        "<a href=\"https://colab.research.google.com/github/MatveyLebedev/Cache-to-db-decorator/blob/main/customer_analytics.ipynb\" target=\"_parent\"><img src=\"https://colab.research.google.com/assets/colab-badge.svg\" alt=\"Open In Colab\"/></a>"
      ]
    },
    {
      "cell_type": "code",
      "metadata": {
        "id": "vfuSgiPP5kOb"
      },
      "source": [
        "import pandas as pd\n",
        "import matplotlib.pyplot as plt\n",
        "from mpl_toolkits.axes_grid1 import make_axes_locatable"
      ],
      "execution_count": null,
      "outputs": []
    },
    {
      "cell_type": "code",
      "metadata": {
        "colab": {
          "base_uri": "https://localhost:8080/",
          "height": 204
        },
        "id": "X7wudA1mD7uA",
        "outputId": "f30559f7-2c07-4bb0-97e9-abee37e9f07f"
      },
      "source": [
        "df = pd.read_csv('/content/total_data.csv')\n",
        "df = df.drop(columns='request_id')\n",
        "df.head()"
      ],
      "execution_count": null,
      "outputs": [
        {
          "output_type": "execute_result",
          "data": {
            "text/html": [
              "<div>\n",
              "<style scoped>\n",
              "    .dataframe tbody tr th:only-of-type {\n",
              "        vertical-align: middle;\n",
              "    }\n",
              "\n",
              "    .dataframe tbody tr th {\n",
              "        vertical-align: top;\n",
              "    }\n",
              "\n",
              "    .dataframe thead th {\n",
              "        text-align: right;\n",
              "    }\n",
              "</style>\n",
              "<table border=\"1\" class=\"dataframe\">\n",
              "  <thead>\n",
              "    <tr style=\"text-align: right;\">\n",
              "      <th></th>\n",
              "      <th>age</th>\n",
              "      <th>spoke_with_agent</th>\n",
              "      <th>documents_send</th>\n",
              "      <th>documents_recieved</th>\n",
              "      <th>flag</th>\n",
              "      <th>delivery_pickup</th>\n",
              "      <th>session_duration</th>\n",
              "      <th>bounce_rate</th>\n",
              "      <th>sessions</th>\n",
              "      <th>visited_partners</th>\n",
              "      <th>step_1</th>\n",
              "      <th>step_2</th>\n",
              "      <th>step_3</th>\n",
              "      <th>user_type</th>\n",
              "    </tr>\n",
              "  </thead>\n",
              "  <tbody>\n",
              "    <tr>\n",
              "      <th>0</th>\n",
              "      <td>45</td>\n",
              "      <td>0</td>\n",
              "      <td>0</td>\n",
              "      <td>0</td>\n",
              "      <td>0</td>\n",
              "      <td>not_stated</td>\n",
              "      <td>0.0</td>\n",
              "      <td>1.0</td>\n",
              "      <td>1</td>\n",
              "      <td>0</td>\n",
              "      <td>0</td>\n",
              "      <td>0</td>\n",
              "      <td>0</td>\n",
              "      <td>new</td>\n",
              "    </tr>\n",
              "    <tr>\n",
              "      <th>1</th>\n",
              "      <td>45</td>\n",
              "      <td>0</td>\n",
              "      <td>0</td>\n",
              "      <td>0</td>\n",
              "      <td>0</td>\n",
              "      <td>delivery</td>\n",
              "      <td>171.0</td>\n",
              "      <td>0.0</td>\n",
              "      <td>1</td>\n",
              "      <td>0</td>\n",
              "      <td>1</td>\n",
              "      <td>0</td>\n",
              "      <td>0</td>\n",
              "      <td>old</td>\n",
              "    </tr>\n",
              "    <tr>\n",
              "      <th>2</th>\n",
              "      <td>31</td>\n",
              "      <td>1</td>\n",
              "      <td>0</td>\n",
              "      <td>0</td>\n",
              "      <td>0</td>\n",
              "      <td>pickup</td>\n",
              "      <td>40.0</td>\n",
              "      <td>0.0</td>\n",
              "      <td>1</td>\n",
              "      <td>0</td>\n",
              "      <td>0</td>\n",
              "      <td>0</td>\n",
              "      <td>0</td>\n",
              "      <td>new</td>\n",
              "    </tr>\n",
              "    <tr>\n",
              "      <th>3</th>\n",
              "      <td>23</td>\n",
              "      <td>1</td>\n",
              "      <td>0</td>\n",
              "      <td>0</td>\n",
              "      <td>0</td>\n",
              "      <td>pickup</td>\n",
              "      <td>229.0</td>\n",
              "      <td>0.0</td>\n",
              "      <td>2</td>\n",
              "      <td>1</td>\n",
              "      <td>2</td>\n",
              "      <td>0</td>\n",
              "      <td>0</td>\n",
              "      <td>new</td>\n",
              "    </tr>\n",
              "    <tr>\n",
              "      <th>4</th>\n",
              "      <td>29</td>\n",
              "      <td>1</td>\n",
              "      <td>0</td>\n",
              "      <td>0</td>\n",
              "      <td>0</td>\n",
              "      <td>pickup</td>\n",
              "      <td>152.0</td>\n",
              "      <td>0.0</td>\n",
              "      <td>1</td>\n",
              "      <td>1</td>\n",
              "      <td>0</td>\n",
              "      <td>0</td>\n",
              "      <td>0</td>\n",
              "      <td>old</td>\n",
              "    </tr>\n",
              "  </tbody>\n",
              "</table>\n",
              "</div>"
            ],
            "text/plain": [
              "   age  spoke_with_agent  documents_send  ...  step_2  step_3 user_type\n",
              "0   45                 0               0  ...       0       0       new\n",
              "1   45                 0               0  ...       0       0       old\n",
              "2   31                 1               0  ...       0       0       new\n",
              "3   23                 1               0  ...       0       0       new\n",
              "4   29                 1               0  ...       0       0       old\n",
              "\n",
              "[5 rows x 14 columns]"
            ]
          },
          "metadata": {
            "tags": []
          },
          "execution_count": 99
        }
      ]
    },
    {
      "cell_type": "code",
      "metadata": {
        "colab": {
          "base_uri": "https://localhost:8080/",
          "height": 173
        },
        "id": "YnQkYTVwElbd",
        "outputId": "2a83209e-2830-441a-805b-aaec99c3d881"
      },
      "source": [
        "df.groupby('delivery_pickup').sum()"
      ],
      "execution_count": null,
      "outputs": [
        {
          "output_type": "execute_result",
          "data": {
            "text/html": [
              "<div>\n",
              "<style scoped>\n",
              "    .dataframe tbody tr th:only-of-type {\n",
              "        vertical-align: middle;\n",
              "    }\n",
              "\n",
              "    .dataframe tbody tr th {\n",
              "        vertical-align: top;\n",
              "    }\n",
              "\n",
              "    .dataframe thead th {\n",
              "        text-align: right;\n",
              "    }\n",
              "</style>\n",
              "<table border=\"1\" class=\"dataframe\">\n",
              "  <thead>\n",
              "    <tr style=\"text-align: right;\">\n",
              "      <th></th>\n",
              "      <th>age</th>\n",
              "      <th>spoke_with_agent</th>\n",
              "      <th>documents_send</th>\n",
              "      <th>documents_recieved</th>\n",
              "      <th>flag</th>\n",
              "      <th>session_duration</th>\n",
              "      <th>bounce_rate</th>\n",
              "      <th>sessions</th>\n",
              "      <th>visited_partners</th>\n",
              "      <th>step_1</th>\n",
              "      <th>step_2</th>\n",
              "      <th>step_3</th>\n",
              "    </tr>\n",
              "    <tr>\n",
              "      <th>delivery_pickup</th>\n",
              "      <th></th>\n",
              "      <th></th>\n",
              "      <th></th>\n",
              "      <th></th>\n",
              "      <th></th>\n",
              "      <th></th>\n",
              "      <th></th>\n",
              "      <th></th>\n",
              "      <th></th>\n",
              "      <th></th>\n",
              "      <th></th>\n",
              "      <th></th>\n",
              "    </tr>\n",
              "  </thead>\n",
              "  <tbody>\n",
              "    <tr>\n",
              "      <th>delivery</th>\n",
              "      <td>83779</td>\n",
              "      <td>1016</td>\n",
              "      <td>394</td>\n",
              "      <td>184</td>\n",
              "      <td>192</td>\n",
              "      <td>1.073824e+06</td>\n",
              "      <td>11.583333</td>\n",
              "      <td>2819</td>\n",
              "      <td>25</td>\n",
              "      <td>2819</td>\n",
              "      <td>477</td>\n",
              "      <td>315</td>\n",
              "    </tr>\n",
              "    <tr>\n",
              "      <th>not_stated</th>\n",
              "      <td>37494</td>\n",
              "      <td>768</td>\n",
              "      <td>271</td>\n",
              "      <td>139</td>\n",
              "      <td>139</td>\n",
              "      <td>9.745523e+04</td>\n",
              "      <td>646.724459</td>\n",
              "      <td>1551</td>\n",
              "      <td>98</td>\n",
              "      <td>0</td>\n",
              "      <td>5</td>\n",
              "      <td>54</td>\n",
              "    </tr>\n",
              "    <tr>\n",
              "      <th>pickup</th>\n",
              "      <td>156059</td>\n",
              "      <td>3710</td>\n",
              "      <td>1131</td>\n",
              "      <td>357</td>\n",
              "      <td>354</td>\n",
              "      <td>1.050078e+06</td>\n",
              "      <td>63.366667</td>\n",
              "      <td>5919</td>\n",
              "      <td>120</td>\n",
              "      <td>4308</td>\n",
              "      <td>70</td>\n",
              "      <td>1640</td>\n",
              "    </tr>\n",
              "  </tbody>\n",
              "</table>\n",
              "</div>"
            ],
            "text/plain": [
              "                    age  spoke_with_agent  ...  step_2  step_3\n",
              "delivery_pickup                            ...                \n",
              "delivery          83779              1016  ...     477     315\n",
              "not_stated        37494               768  ...       5      54\n",
              "pickup           156059              3710  ...      70    1640\n",
              "\n",
              "[3 rows x 12 columns]"
            ]
          },
          "metadata": {
            "tags": []
          },
          "execution_count": 100
        }
      ]
    },
    {
      "cell_type": "code",
      "metadata": {
        "colab": {
          "base_uri": "https://localhost:8080/",
          "height": 142
        },
        "id": "MelWjvqLIoUC",
        "outputId": "d203f96d-7bad-4e81-bbf0-6b28132ba279"
      },
      "source": [
        "df.groupby('flag').sum()"
      ],
      "execution_count": null,
      "outputs": [
        {
          "output_type": "execute_result",
          "data": {
            "text/html": [
              "<div>\n",
              "<style scoped>\n",
              "    .dataframe tbody tr th:only-of-type {\n",
              "        vertical-align: middle;\n",
              "    }\n",
              "\n",
              "    .dataframe tbody tr th {\n",
              "        vertical-align: top;\n",
              "    }\n",
              "\n",
              "    .dataframe thead th {\n",
              "        text-align: right;\n",
              "    }\n",
              "</style>\n",
              "<table border=\"1\" class=\"dataframe\">\n",
              "  <thead>\n",
              "    <tr style=\"text-align: right;\">\n",
              "      <th></th>\n",
              "      <th>age</th>\n",
              "      <th>spoke_with_agent</th>\n",
              "      <th>documents_send</th>\n",
              "      <th>documents_recieved</th>\n",
              "      <th>session_duration</th>\n",
              "      <th>bounce_rate</th>\n",
              "      <th>sessions</th>\n",
              "      <th>visited_partners</th>\n",
              "      <th>step_1</th>\n",
              "      <th>step_2</th>\n",
              "      <th>step_3</th>\n",
              "    </tr>\n",
              "    <tr>\n",
              "      <th>flag</th>\n",
              "      <th></th>\n",
              "      <th></th>\n",
              "      <th></th>\n",
              "      <th></th>\n",
              "      <th></th>\n",
              "      <th></th>\n",
              "      <th></th>\n",
              "      <th></th>\n",
              "      <th></th>\n",
              "      <th></th>\n",
              "      <th></th>\n",
              "    </tr>\n",
              "  </thead>\n",
              "  <tbody>\n",
              "    <tr>\n",
              "      <th>0</th>\n",
              "      <td>251662</td>\n",
              "      <td>4927</td>\n",
              "      <td>1144</td>\n",
              "      <td>52</td>\n",
              "      <td>1.984653e+06</td>\n",
              "      <td>629.953030</td>\n",
              "      <td>9409</td>\n",
              "      <td>213</td>\n",
              "      <td>6530</td>\n",
              "      <td>421</td>\n",
              "      <td>1766</td>\n",
              "    </tr>\n",
              "    <tr>\n",
              "      <th>1</th>\n",
              "      <td>25670</td>\n",
              "      <td>567</td>\n",
              "      <td>652</td>\n",
              "      <td>628</td>\n",
              "      <td>2.367043e+05</td>\n",
              "      <td>91.721429</td>\n",
              "      <td>880</td>\n",
              "      <td>30</td>\n",
              "      <td>597</td>\n",
              "      <td>131</td>\n",
              "      <td>243</td>\n",
              "    </tr>\n",
              "  </tbody>\n",
              "</table>\n",
              "</div>"
            ],
            "text/plain": [
              "         age  spoke_with_agent  documents_send  ...  step_1  step_2  step_3\n",
              "flag                                            ...                        \n",
              "0     251662              4927            1144  ...    6530     421    1766\n",
              "1      25670               567             652  ...     597     131     243\n",
              "\n",
              "[2 rows x 11 columns]"
            ]
          },
          "metadata": {
            "tags": []
          },
          "execution_count": 101
        }
      ]
    },
    {
      "cell_type": "code",
      "metadata": {
        "id": "gb7zSfXhESAd"
      },
      "source": [
        "def encode1(l):\n",
        "    r = 0\n",
        "    if l == 'not_stated': r = 0\n",
        "    if l == 'delivery': r = 1\n",
        "    if l == 'pickup': r = 2\n",
        "    return r\n",
        "\n",
        "def encode2(l):\n",
        "    r = 0\n",
        "    if l == 'new': r = 0\n",
        "    if l == 'old': r = 1\n",
        "    return r\n",
        "\n",
        "df['delivery_pickup'] = df['delivery_pickup'].apply(encode1)\n",
        "df['user_type'] = df['user_type'].apply(encode2)\n"
      ],
      "execution_count": null,
      "outputs": []
    },
    {
      "cell_type": "code",
      "metadata": {
        "id": "0u7FLDslFHHD"
      },
      "source": [
        "idf = df.copy()\n",
        "\n",
        "# Балансируем\n",
        "g = df.groupby('flag')\n",
        "g = g.apply(lambda x: x.sample(g.size().min()).reset_index(drop=True))\n",
        "df = pd.DataFrame(g)\n",
        "df.head()\n",
        "\n",
        "# Перемешиваем\n",
        "df = df.sample(frac=1)"
      ],
      "execution_count": null,
      "outputs": []
    },
    {
      "cell_type": "code",
      "metadata": {
        "colab": {
          "base_uri": "https://localhost:8080/"
        },
        "id": "acJoBJjGHK3v",
        "outputId": "7412122e-2bca-47f2-a34a-349abcaf2cbb"
      },
      "source": [
        "df.corr()['flag']"
      ],
      "execution_count": null,
      "outputs": [
        {
          "output_type": "execute_result",
          "data": {
            "text/plain": [
              "age                   0.273247\n",
              "spoke_with_agent      0.230448\n",
              "documents_send        0.821930\n",
              "documents_recieved    0.912121\n",
              "flag                  1.000000\n",
              "delivery_pickup      -0.084903\n",
              "session_duration      0.131741\n",
              "bounce_rate           0.107894\n",
              "sessions              0.035555\n",
              "visited_partners      0.043236\n",
              "step_1                0.029397\n",
              "step_2                0.233076\n",
              "step_3                0.131360\n",
              "user_type             0.149286\n",
              "Name: flag, dtype: float64"
            ]
          },
          "metadata": {
            "tags": []
          },
          "execution_count": 105
        }
      ]
    },
    {
      "cell_type": "code",
      "metadata": {
        "colab": {
          "base_uri": "https://localhost:8080/",
          "height": 1000
        },
        "id": "STVDj0vnFcJn",
        "outputId": "62f9de7d-9843-4bc4-e8d4-272dd14067d6"
      },
      "source": [
        "for c in df.columns:\n",
        "    plt.scatter(range(len(df[c])), df[c])\n",
        "    print('\\n', c)\n",
        "    plt.pause(0.1)"
      ],
      "execution_count": null,
      "outputs": [
        {
          "output_type": "stream",
          "text": [
            "\n",
            " age\n"
          ],
          "name": "stdout"
        },
        {
          "output_type": "display_data",
          "data": {
            "image/png": "[encoded data removed]",
            "text/plain": [
              "<Figure size 432x288 with 1 Axes>"
            ]
          },
          "metadata": {
            "tags": [],
            "needs_background": "light"
          }
        },
        {
          "output_type": "stream",
          "text": [
            "\n",
            " spoke_with_agent\n"
          ],
          "name": "stdout"
        },
        {
          "output_type": "display_data",
          "data": {
            "image/png": "[encoded data removed]",
            "text/plain": [
              "<Figure size 432x288 with 1 Axes>"
            ]
          },
          "metadata": {
            "tags": [],
            "needs_background": "light"
          }
        },
        {
          "output_type": "stream",
          "text": [
            "\n",
            " documents_send\n"
          ],
          "name": "stdout"
        },
        {
          "output_type": "display_data",
          "data": {
            "image/png": "[encoded data removed]",
            "text/plain": [
              "<Figure size 432x288 with 1 Axes>"
            ]
          },
          "metadata": {
            "tags": [],
            "needs_background": "light"
          }
        },
        {
          "output_type": "stream",
          "text": [
            "\n",
            " documents_recieved\n"
          ],
          "name": "stdout"
        },
        {
          "output_type": "display_data",
          "data": {
            "image/png": "[encoded data removed]",
            "text/plain": [
              "<Figure size 432x288 with 1 Axes>"
            ]
          },
          "metadata": {
            "tags": [],
            "needs_background": "light"
          }
        },
        {
          "output_type": "stream",
          "text": [
            "\n",
            " flag\n"
          ],
          "name": "stdout"
        },
        {
          "output_type": "display_data",
          "data": {
            "image/png": "[encoded data removed]",
            "text/plain": [
              "<Figure size 432x288 with 1 Axes>"
            ]
          },
          "metadata": {
            "tags": [],
            "needs_background": "light"
          }
        },
        {
          "output_type": "stream",
          "text": [
            "\n",
            " delivery_pickup\n"
          ],
          "name": "stdout"
        },
        {
          "output_type": "display_data",
          "data": {
            "image/png": "[encoded data removed]",
            "text/plain": [
              "<Figure size 432x288 with 1 Axes>"
            ]
          },
          "metadata": {
            "tags": [],
            "needs_background": "light"
          }
        },
        {
          "output_type": "stream",
          "text": [
            "\n",
            " session_duration\n"
          ],
          "name": "stdout"
        },
        {
          "output_type": "display_data",
          "data": {
            "image/png": "[encoded data removed]",
            "text/plain": [
              "<Figure size 432x288 with 1 Axes>"
            ]
          },
          "metadata": {
            "tags": [],
            "needs_background": "light"
          }
        },
        {
          "output_type": "stream",
          "text": [
            "\n",
            " bounce_rate\n"
          ],
          "name": "stdout"
        },
        {
          "output_type": "display_data",
          "data": {
            "image/png": "[encoded data removed]",
            "text/plain": [
              "<Figure size 432x288 with 1 Axes>"
            ]
          },
          "metadata": {
            "tags": [],
            "needs_background": "light"
          }
        },
        {
          "output_type": "stream",
          "text": [
            "\n",
            " sessions\n"
          ],
          "name": "stdout"
        },
        {
          "output_type": "display_data",
          "data": {
            "image/png": "[encoded data removed]",
            "text/plain": [
              "<Figure size 432x288 with 1 Axes>"
            ]
          },
          "metadata": {
            "tags": [],
            "needs_background": "light"
          }
        },
        {
          "output_type": "stream",
          "text": [
            "\n",
            " visited_partners\n"
          ],
          "name": "stdout"
        },
        {
          "output_type": "display_data",
          "data": {
            "image/png": "[encoded data removed]",
            "text/plain": [
              "<Figure size 432x288 with 1 Axes>"
            ]
          },
          "metadata": {
            "tags": [],
            "needs_background": "light"
          }
        },
        {
          "output_type": "stream",
          "text": [
            "\n",
            " step_1\n"
          ],
          "name": "stdout"
        },
        {
          "output_type": "display_data",
          "data": {
            "image/png": "[encoded data removed]",
            "text/plain": [
              "<Figure size 432x288 with 1 Axes>"
            ]
          },
          "metadata": {
            "tags": [],
            "needs_background": "light"
          }
        },
        {
          "output_type": "stream",
          "text": [
            "\n",
            " step_2\n"
          ],
          "name": "stdout"
        },
        {
          "output_type": "display_data",
          "data": {
            "image/png": "[encoded data removed]",
            "text/plain": [
              "<Figure size 432x288 with 1 Axes>"
            ]
          },
          "metadata": {
            "tags": [],
            "needs_background": "light"
          }
        },
        {
          "output_type": "stream",
          "text": [
            "\n",
            " step_3\n"
          ],
          "name": "stdout"
        },
        {
          "output_type": "display_data",
          "data": {
            "image/png": "[encoded data removed]",
            "text/plain": [
              "<Figure size 432x288 with 1 Axes>"
            ]
          },
          "metadata": {
            "tags": [],
            "needs_background": "light"
          }
        },
        {
          "output_type": "stream",
          "text": [
            "\n",
            " user_type\n"
          ],
          "name": "stdout"
        },
        {
          "output_type": "display_data",
          "data": {
            "image/png": "[encoded data removed]",
            "text/plain": [
              "<Figure size 432x288 with 1 Axes>"
            ]
          },
          "metadata": {
            "tags": [],
            "needs_background": "light"
          }
        }
      ]
    },
    {
      "cell_type": "code",
      "metadata": {
        "colab": {
          "base_uri": "https://localhost:8080/",
          "height": 215
        },
        "id": "iufZlvj0JkPH",
        "outputId": "b3eb65d3-bc1f-4cd7-8b2d-f7c19a0b8317"
      },
      "source": [
        "fig, ax = plt.subplots(figsize=(20, 4))\n",
        "ax.imshow([df.corr()['flag']])\n",
        "ax.set_xticks(range(len(df.corr()['flag'].index)))\n",
        "ax.set_xticklabels(df.corr()['flag'].index)\n",
        "ax.set_yticks([])\n",
        "plt.setp(ax.get_xticklabels(), rotation=45, ha=\"right\", rotation_mode=\"anchor\")\n",
        "print('')"
      ],
      "execution_count": null,
      "outputs": [
        {
          "output_type": "stream",
          "text": [
            "\n"
          ],
          "name": "stdout"
        },
        {
          "output_type": "display_data",
          "data": {
            "image/png": "[encoded data removed]",
            "text/plain": [
              "<Figure size 1440x288 with 1 Axes>"
            ]
          },
          "metadata": {
            "tags": [],
            "needs_background": "light"
          }
        }
      ]
    },
    {
      "cell_type": "code",
      "metadata": {
        "id": "SpH9_1IcK4jq"
      },
      "source": [
        "df['age'] = df['age'] / 40"
      ],
      "execution_count": null,
      "outputs": []
    },
    {
      "cell_type": "code",
      "metadata": {
        "id": "s3AIFjzHLYgy"
      },
      "source": [
        "df = df.drop(columns=['step_1', 'delivery_pickup', 'visited_partners', 'bounce_rate', 'step_3',\n",
        "                      'session_duration', 'user_type', 'sessions'])"
      ],
      "execution_count": null,
      "outputs": []
    },
    {
      "cell_type": "code",
      "metadata": {
        "colab": {
          "base_uri": "https://localhost:8080/",
          "height": 235
        },
        "id": "fYTjUk03aHSe",
        "outputId": "bd505e32-1514-4f1e-a211-282a7fba0125"
      },
      "source": [
        "df.head()"
      ],
      "execution_count": null,
      "outputs": [
        {
          "output_type": "execute_result",
          "data": {
            "text/html": [
              "<div>\n",
              "<style scoped>\n",
              "    .dataframe tbody tr th:only-of-type {\n",
              "        vertical-align: middle;\n",
              "    }\n",
              "\n",
              "    .dataframe tbody tr th {\n",
              "        vertical-align: top;\n",
              "    }\n",
              "\n",
              "    .dataframe thead th {\n",
              "        text-align: right;\n",
              "    }\n",
              "</style>\n",
              "<table border=\"1\" class=\"dataframe\">\n",
              "  <thead>\n",
              "    <tr style=\"text-align: right;\">\n",
              "      <th></th>\n",
              "      <th></th>\n",
              "      <th>age</th>\n",
              "      <th>spoke_with_agent</th>\n",
              "      <th>documents_send</th>\n",
              "      <th>documents_recieved</th>\n",
              "      <th>flag</th>\n",
              "      <th>step_2</th>\n",
              "    </tr>\n",
              "    <tr>\n",
              "      <th>flag</th>\n",
              "      <th></th>\n",
              "      <th></th>\n",
              "      <th></th>\n",
              "      <th></th>\n",
              "      <th></th>\n",
              "      <th></th>\n",
              "      <th></th>\n",
              "    </tr>\n",
              "  </thead>\n",
              "  <tbody>\n",
              "    <tr>\n",
              "      <th>0</th>\n",
              "      <th>622</th>\n",
              "      <td>0.775</td>\n",
              "      <td>1</td>\n",
              "      <td>0</td>\n",
              "      <td>0</td>\n",
              "      <td>0</td>\n",
              "      <td>0</td>\n",
              "    </tr>\n",
              "    <tr>\n",
              "      <th rowspan=\"3\" valign=\"top\">1</th>\n",
              "      <th>344</th>\n",
              "      <td>0.850</td>\n",
              "      <td>1</td>\n",
              "      <td>1</td>\n",
              "      <td>1</td>\n",
              "      <td>1</td>\n",
              "      <td>0</td>\n",
              "    </tr>\n",
              "    <tr>\n",
              "      <th>117</th>\n",
              "      <td>0.800</td>\n",
              "      <td>1</td>\n",
              "      <td>1</td>\n",
              "      <td>1</td>\n",
              "      <td>1</td>\n",
              "      <td>1</td>\n",
              "    </tr>\n",
              "    <tr>\n",
              "      <th>521</th>\n",
              "      <td>1.075</td>\n",
              "      <td>0</td>\n",
              "      <td>1</td>\n",
              "      <td>1</td>\n",
              "      <td>1</td>\n",
              "      <td>0</td>\n",
              "    </tr>\n",
              "    <tr>\n",
              "      <th>0</th>\n",
              "      <th>313</th>\n",
              "      <td>0.925</td>\n",
              "      <td>0</td>\n",
              "      <td>0</td>\n",
              "      <td>0</td>\n",
              "      <td>0</td>\n",
              "      <td>0</td>\n",
              "    </tr>\n",
              "  </tbody>\n",
              "</table>\n",
              "</div>"
            ],
            "text/plain": [
              "            age  spoke_with_agent  ...  flag  step_2\n",
              "flag                               ...              \n",
              "0    622  0.775                 1  ...     0       0\n",
              "1    344  0.850                 1  ...     1       0\n",
              "     117  0.800                 1  ...     1       1\n",
              "     521  1.075                 0  ...     1       0\n",
              "0    313  0.925                 0  ...     0       0\n",
              "\n",
              "[5 rows x 6 columns]"
            ]
          },
          "metadata": {
            "tags": []
          },
          "execution_count": 109
        }
      ]
    },
    {
      "cell_type": "code",
      "metadata": {
        "id": "m_nA7gx0einO"
      },
      "source": [
        "import tensorflow as tf\n",
        "import numpy as np"
      ],
      "execution_count": null,
      "outputs": []
    },
    {
      "cell_type": "code",
      "metadata": {
        "colab": {
          "base_uri": "https://localhost:8080/"
        },
        "id": "cKFw7b0le0nl",
        "outputId": "33093a18-926c-4e7a-a130-bb31e47965e4"
      },
      "source": [
        "c_inv = df['flag'].replace({0: 1, 1: 0})\n",
        "\n",
        "df_x = df.drop(columns='flag')\n",
        "df_x = pd.get_dummies(df_x, columns=['step_2'])\n",
        "df_y = pd.DataFrame({'Y': df['flag'], 'N': c_inv})\n",
        "data_x = df_x.to_numpy()\n",
        "data_y = df_y.to_numpy()\n",
        "\n",
        "print(data_x.shape)\n",
        "print(data_y.shape)"
      ],
      "execution_count": null,
      "outputs": [
        {
          "output_type": "stream",
          "text": [
            "(1370, 7)\n",
            "(1370, 2)\n"
          ],
          "name": "stdout"
        }
      ]
    },
    {
      "cell_type": "code",
      "metadata": {
        "id": "9tAx1KrihVrv"
      },
      "source": [
        "train_part = 0.7\n",
        "batch_size = 8\n",
        "\n",
        "len_trein = int(round(len(data_x) * train_part))\n",
        "ds_x_trein = tf.data.Dataset.from_tensor_slices(data_x[0: len_trein]).batch(batch_size)\n",
        "ds_y_trein = tf.data.Dataset.from_tensor_slices(data_y[0: len_trein]).batch(batch_size)\n",
        "ds_trein = tf.data.Dataset.zip((ds_x_trein, ds_y_trein))\n",
        "\n",
        "\n",
        "ds_x_test = tf.data.Dataset.from_tensor_slices(data_x[len_trein:]).batch(batch_size)\n",
        "ds_y_test = tf.data.Dataset.from_tensor_slices(data_y[len_trein:]).batch(batch_size)\n",
        "ds_test = tf.data.Dataset.zip((ds_x_test, ds_y_test))"
      ],
      "execution_count": null,
      "outputs": []
    },
    {
      "cell_type": "code",
      "metadata": {
        "id": "pI9wQ7aDjdA_"
      },
      "source": [
        "model = tf.keras.models.Sequential()\n",
        "model.add(tf.keras.layers.Dense(5, input_shape=(data_x.shape[1], )))\n",
        "model.add(tf.keras.layers.Dense(2, activation='linear'))\n",
        "model.compile(optimizer=tf.keras.optimizers.Adam(0.01),\n",
        "              loss=tf.keras.losses.BinaryCrossentropy(), \n",
        "              metrics=['accuracy'])"
      ],
      "execution_count": null,
      "outputs": []
    },
    {
      "cell_type": "code",
      "metadata": {
        "colab": {
          "base_uri": "https://localhost:8080/"
        },
        "id": "1doyZedooubP",
        "outputId": "2733acc0-d3b3-402b-be38-503f517ea6fe"
      },
      "source": [
        "epochs = 10\n",
        "hist = model.fit(ds_trein, validation_data=ds_test, epochs=epochs, shuffle=True)"
      ],
      "execution_count": null,
      "outputs": [
        {
          "output_type": "stream",
          "text": [
            "Epoch 1/10\n",
            "120/120 [==============================] - 1s 2ms/step - loss: 3.6982 - accuracy: 0.2774 - val_loss: 1.5247 - val_accuracy: 0.4234\n",
            "Epoch 2/10\n",
            "120/120 [==============================] - 0s 4ms/step - loss: 1.3060 - accuracy: 0.5255 - val_loss: 0.9847 - val_accuracy: 0.6886\n",
            "Epoch 3/10\n",
            "120/120 [==============================] - 0s 2ms/step - loss: 0.9201 - accuracy: 0.7414 - val_loss: 0.8193 - val_accuracy: 0.8078\n",
            "Epoch 4/10\n",
            "120/120 [==============================] - 0s 2ms/step - loss: 0.7651 - accuracy: 0.8519 - val_loss: 0.7271 - val_accuracy: 0.9173\n",
            "Epoch 5/10\n",
            "120/120 [==============================] - 0s 2ms/step - loss: 0.6348 - accuracy: 0.9114 - val_loss: 0.6024 - val_accuracy: 0.9221\n",
            "Epoch 6/10\n",
            "120/120 [==============================] - 0s 2ms/step - loss: 0.5531 - accuracy: 0.9124 - val_loss: 0.5692 - val_accuracy: 0.9246\n",
            "Epoch 7/10\n",
            "120/120 [==============================] - 0s 2ms/step - loss: 0.5066 - accuracy: 0.9187 - val_loss: 0.5576 - val_accuracy: 0.9246\n",
            "Epoch 8/10\n",
            "120/120 [==============================] - 0s 2ms/step - loss: 0.4801 - accuracy: 0.9249 - val_loss: 0.5514 - val_accuracy: 0.9270\n",
            "Epoch 9/10\n",
            "120/120 [==============================] - 0s 2ms/step - loss: 0.4607 - accuracy: 0.9281 - val_loss: 0.5507 - val_accuracy: 0.9270\n",
            "Epoch 10/10\n",
            "120/120 [==============================] - 0s 2ms/step - loss: 0.4528 - accuracy: 0.9301 - val_loss: 0.5603 - val_accuracy: 0.9270\n"
          ],
          "name": "stdout"
        }
      ]
    },
    {
      "cell_type": "code",
      "metadata": {
        "colab": {
          "base_uri": "https://localhost:8080/",
          "height": 282
        },
        "id": "JWaNjZL5Q7G5",
        "outputId": "6453e11d-1275-4393-810c-0130a999bd55"
      },
      "source": [
        "plt.plot(hist.history['accuracy'])\n",
        "plt.plot(hist.history['val_accuracy'])"
      ],
      "execution_count": null,
      "outputs": [
        {
          "output_type": "execute_result",
          "data": {
            "text/plain": [
              "[<matplotlib.lines.Line2D at 0x7f2527397210>]"
            ]
          },
          "metadata": {
            "tags": []
          },
          "execution_count": 115
        },
        {
          "output_type": "display_data",
          "data": {
            "image/png": "[encoded data removed]",
            "text/plain": [
              "<Figure size 432x288 with 1 Axes>"
            ]
          },
          "metadata": {
            "tags": [],
            "needs_background": "light"
          }
        }
      ]
    }
  ]
}